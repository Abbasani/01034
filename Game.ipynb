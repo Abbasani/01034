{
  "nbformat": 4,
  "nbformat_minor": 0,
  "metadata": {
    "colab": {
      "provenance": [],
      "authorship_tag": "ABX9TyNit41EubuE1hkin9AmyEet",
      "include_colab_link": true
    },
    "kernelspec": {
      "name": "python3",
      "display_name": "Python 3"
    },
    "language_info": {
      "name": "python"
    }
  },
  "cells": [
    {
      "cell_type": "markdown",
      "metadata": {
        "id": "view-in-github",
        "colab_type": "text"
      },
      "source": [
        "<a href=\"https://colab.research.google.com/github/Abbasani/01034/blob/main/Game.ipynb\" target=\"_parent\"><img src=\"https://colab.research.google.com/assets/colab-badge.svg\" alt=\"Open In Colab\"/></a>"
      ]
    },
    {
      "cell_type": "code",
      "execution_count": 1,
      "metadata": {
        "colab": {
          "base_uri": "https://localhost:8080/"
        },
        "id": "zA2v_woaV5Q3",
        "outputId": "a5231cd1-1588-4b49-fff2-663525c0c25a"
      },
      "outputs": [
        {
          "name": "stdout",
          "output_type": "stream",
          "text": [
            "\n",
            "You chose paper, computer chose paper.\n",
            "\n",
            "Both players selected paper. It's a tie!\n",
            "\n",
            "You chose Scissors, computer chose scissors.\n",
            "\n",
            "\n",
            "You chose rock, computer chose paper.\n",
            "\n",
            "Paper covers rock! You lose.\n",
            "Play again? (y/n): n\n"
          ]
        }
      ],
      "source": [
        "import random\n",
        "\n",
        "while True:\n",
        "    user_action = input(\"Enter a choice (rock, paper, scissors): \")\n",
        "    possible_actions = [\"rock\", \"paper\", \"scissors\"]\n",
        "    computer_action = random.choice(possible_actions)\n",
        "    print(f\"\\nYou chose {user_action}, computer chose {computer_action}.\\n\")\n",
        "\n",
        "    if user_action == computer_action:\n",
        "        print(f\"Both players selected {user_action}. It's a tie!\")\n",
        "    elif user_action == \"rock\":\n",
        "        if computer_action == \"scissors\":\n",
        "            print(\"Rock smashes scissors! You win!\")\n",
        "        else:\n",
        "            print(\"Paper covers rock! You lose.\")\n",
        "    elif user_action == \"paper\":\n",
        "        if computer_action == \"rock\":\n",
        "            print(\"Paper covers rock! You win!\")\n",
        "        else:\n",
        "            print(\"Scissors cuts paper! You lose.\")\n",
        "    elif user_action == \"scissors\":\n",
        "        if computer_action == \"paper\":\n",
        "            print(\"Scissors cuts paper! You win!\")\n",
        "\n",
        "        else:\n",
        "            print(\"Rock smashes scissors! You lose.\")\n",
        "\n",
        "    play_again = input(\"Play again? (y/n): \")\n",
        "    if play_again.lower() != \"y\":\n",
        "        break"
      ]
    }
  ]
}